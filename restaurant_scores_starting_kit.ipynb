{
 "cells": [
  {
   "cell_type": "markdown",
   "metadata": {},
   "source": [
    "<div style=\"text-align: center\">\n",
    "  <tr style=\"background-color:transparent;\">\n",
    "    <td style=\"background-color:transparent;\"><a href=\"http://www.datascience-paris-saclay.fr\">\n",
    "<img border=\"0\" src=\"http://project.inria.fr/saclaycds/files/2017/02/logoUPSayPlusCDS_990.png\"> </td>\n",
    "     <td style=\"background-color:transparent;\"><a href=\"https://www.sidetrade.com/\">\n",
    "  </tr>\n",
    "</table> \n",
    "</div>"
   ]
  },
  {
   "cell_type": "markdown",
   "metadata": {},
   "source": [
    "# <a style=\"color:#0131B4\"> DataCamp Project : </a>\n",
    "# <a style=\"color:#0131B4\">Helping Health Inspectors calculate Restaurant Scores (LIVES Standard) to decide whether to inspect a restaurant or not in San Francisco</a>"
   ]
  },
  {
   "cell_type": "markdown",
   "metadata": {},
   "source": [
    "<img src=\"reports/figures/grades.png\" height=\"450\" width=\"450\">"
   ]
  },
  {
   "cell_type": "markdown",
   "metadata": {},
   "source": [
    "####  <a style=\"color:#0131B4\"> Authors : Romain Fabre, Julien Lenhardt, Luz Pascal, Benjamin Wallyn, Emma Demarecaux, Charles Desaleux</a>"
   ]
  },
  {
   "cell_type": "markdown",
   "metadata": {},
   "source": [
    "# <a style=\"color:#0131B4\">  General Outline</a>\n",
    "\n",
    "##  <a href=\"#I.-Business-case\" style=\"color:#0131B4\"> I. Business case</a>\n",
    "\n",
    "1. Business case presentation \n",
    "2. KPIs \n",
    "3. Data \n",
    "4. Business metric\n",
    "\n",
    "##  <a href=\"#II.-Exploratory-Data-Analysis\" style=\"color:#0131B4\"> II. Exploratory Data Analysis </a>\n",
    "\n",
    "##  <a href=\"#III.-Model-to-submit\" style=\"color:#0131B4\"> III. Model to submit </a>\n",
    "\n",
    "1. Feature Extractor\n",
    "2. Regressor\n",
    "3. Evaluation\n",
    "4. Cross-Validation\n",
    "\n",
    "##  <a href=\"#IV.-Submission\" style=\"color:#0131B4\"> IV. Submission</a>"
   ]
  },
  {
   "cell_type": "markdown",
   "metadata": {},
   "source": [
    "#  <a style=\"color:#0131B4\">I. Business case</a>\n",
    "\n",
    "## <a style=\"color:#0131B4\">1. Business case presentation</a>\n",
    "*How Restaurant Health Inspections Work?*"
   ]
  },
  {
   "cell_type": "markdown",
   "metadata": {},
   "source": [
    "The Health Department has developed an inspection report and scoring system. After conducting an inspection of the facility, the Health Inspector calculates a score based on the violations observed. Violations can fall into:\n",
    "- **high risk category**: records specific violations that directly relate to the transmission of food borne illnesses, the adulteration of food products and the contamination of food-contact surfaces;\n",
    "- **moderate risk category**: records specific violations that are of a moderate risk to the public health and safety;\n",
    "- **low risk category**: records violations that are low risk or have no immediate risk to the public health and safety."
   ]
  },
  {
   "cell_type": "markdown",
   "metadata": {},
   "source": [
    "The score card that will be issued by the inspector is maintained at the food establishment and is available to the public in this dataset. We will focus on San Francisco's LIVES restaurant inspection data. In 2012, Yelp partnered with the City of San Francisco and City of New York to develop the *Local Inspector Value-Entry Specification* (LIVES). LIVES is an open data standard which allows municipalities to publish restaurant inspection information to Yelp."
   ]
  },
  {
   "cell_type": "markdown",
   "metadata": {},
   "source": [
    "A health inspector is allowed to visit your venue at any reasonable time without notice. As part of their job, they're obligated to do a certain number of inspections a year (once every six months is common), but they're also required to do an inspection if a customer complains. \n",
    "\n",
    "The highest grade ('A') is earned if the restaurant is clean, up to code, and free of violations, a 'B' means that the restaurant is clean, but has some minor issues that needs to be fixed and a 'C' means the restaurant shouldn't be open.\n",
    "\n",
    "The health score goes from 0 to 100. A perfect score is 100. For states and counties that use the letter-grade system, a 90-to-100 point score is an A, 80 to 89 is a B and so forth. Some cities and states require the restaurant to prominently display its most recent grade.\n",
    "\n",
    "Public health inspectors look for health and safety hazards in restaurants. They inspect workplaces to ensure equipment, materials and processes are safe, develop, implement and evaluate health and safety programs and strategies.\n",
    "\n",
    "Grade pending means that the restaurant got either a B or a C. The restaurant can contest the grade, and while it's waiting for a hearing, it can post the grade it received or the \"Grade Pending\" sign. The restaurant's pending scores can be looked up online."
   ]
  },
  {
   "cell_type": "markdown",
   "metadata": {},
   "source": [
    "<img src=\"reports/figures/closed.jpg\" height=\"400\" width=\"400\">"
   ]
  },
  {
   "cell_type": "markdown",
   "metadata": {},
   "source": [
    "<a style=\"color:#0131B4\">Our goal is to estimate the restaurant score in order to help health inspectors select places that may not respect the health quality needed for a resrtaurant.</a>"
   ]
  },
  {
   "cell_type": "markdown",
   "metadata": {},
   "source": [
    "## <a style=\"color:#0131B4\">2. KPIs</a>\n",
    "\n",
    "*How can we measure the impact of our project?*"
   ]
  },
  {
   "cell_type": "markdown",
   "metadata": {},
   "source": [
    "<img src=\"reports/figures/preparing_inspection.jpg\" height=\"400\" width=\"400\">"
   ]
  },
  {
   "cell_type": "markdown",
   "metadata": {},
   "source": [
    "Some KPIs:\n",
    "\n",
    "- Number of people with foodborne illnesses in San Francisco.\n",
    "- Number of visits that result in a C score (meaning that the health inspectors didn't lose their time)"
   ]
  },
  {
   "attachments": {},
   "cell_type": "markdown",
   "metadata": {},
   "source": [
    "## <a style=\"color:#0131B4\">3. Data</a>\n",
    "\n",
    "### Restaurant Scores - LIVES Standard\n",
    "\n",
    "This dataset was built from an extract of the [Department of Public Health](https://data.sfgov.org/Health-and-Social-Services/Restaurant-Scores-LIVES-Standard/pyih-qa8i?row_index=0) reference database of Restaurant Scores (LIVES Standard).\n",
    "\n",
    "All of the columns associated with the listing of violations are optional. If a data provider does not collect or does not wish to provide details of violations, those columns can be blank or omitted.\n",
    "- If the data provider includes violations then the dataset will have one record for each violation and the associated inspection and business information will be duplicated for each violation, but can be differentiated by their business_ids and inspection_ids. Any inspection that resulted in no violations can be represented as a single row for the inspection with blank data in the violations fields.\n",
    "- If violations are not included then the dataset will have one record for each inspection and the associated business information will be duplicated for each inspection\n",
    "\n",
    "The following information is provided in the columns:\n",
    "\n",
    "* `business_id` - *string* - required - Unique identifier for the business. For many cities, this may be the license number.\n",
    "* `business_name` - *string* - required - Common name of the business.\n",
    "* `business_address` - *string* - required - Street address of the business. *Example: 706 Mission St*.\n",
    "* `business_city` - *string* - required - City of the business. This field must be included if the file contains businesses from multiple cities.\n",
    "* `business_state` - *string* - required - State or province for the business. In the U.S. this should be the two-letter code for the state.\n",
    "* `business_postal_code` - *string* - not required - Zip code or other postal code.\n",
    "* `business_latitude` - *number* - not required - Latitude of the business. This field must be a valid WGS 84 latitude. *Example: 37.7859547*.\n",
    "* `business_longitude` - *number* - not required - Longitude of the business. This field must be a valid WGS 84 longitude. *Example: -122.4024658*.\n",
    "* `business_location` - *location* - not required - If you wish to have geospatial API capabilities or wish to geocode addresses you should include this Location datatype column. *Example: POINT(-122.393089 37.778634)*.\n",
    "* `business_phone_number` - *string* - not required - Phone number for a business including country specific dialing information.\n",
    "* `inspection_id` - *string* - required - A unique identifier for a given inspection.\n",
    "* `inspection_date` - *date* - required - Date of the inspection in YYYY-MM-DD format. *Example: 2015-08-22*.\n",
    "* `inspection_score` - *number* - not required - Calculated inspection score, graded from 0 to 100.\n",
    "* `inspection_type` - *string* - not required - String representing the type of inspection. Must be one of: initial, routine, follow-up, complaint.\n",
    "* `violation_id` - *string* - not required - A unique identifier for a given violation.\n",
    "* `violation_description` - *string* - not required - One line description of the violation. If violation data is provided then this field is required.\n",
    "* `risk_category` - *string* - not required - This string represents the non-numeric result of the inspection: \"Low Risk\", \"Moderate Risk\" or \"High Risk\".\n",
    "\n",
    "\n",
    "### Tripadvisor\n",
    "\n",
    "In order to gain infornation on restaurants, we decided to scrap the restaurants on Tripadvisor for which we have an inspection score available. We are aiming at predicting that score from the infornation available in Tripadvisor in order to help Health Inspectors decide whether to inspect a restaurant or not in San Francisco based on the predicted score. Each row represents a restaurant on Tripadvisor. The following information is provided for each business:\n",
    "\n",
    "* `link` - *string* - required - Tripadvisor link to the restaurant page.\n",
    "* `date` - *date* - required - Date of the last review of the restaurant?\n",
    "* `name` - *string* - required - Common name of the business.\n",
    "* `first_review` - *string* - required - First review of the restaurant.\n",
    "* `second_review` - *string* - required - Second review of the restaurant.\n",
    "* `rating` - *number* - required - Grade of the restaurant: 0, 5, 10, 15, 20, 25, 30, 35, 40, 45, 50.\n",
    "* `n_reviews` - *number* - required - Number of reviews of the restaurant.\n",
    "* `type` - *string* - not required - Type of the restaurant. \n",
    "* `price_range` - *string* - not required - Price range of the restaurant: \"$\\$$\", \"$\\$\\$$ - $\\$\\$\\$$\" and \"$\\$\\$\\$\\$$\". \n",
    "* `price` - *string* - required - Price category of the restaurant: \"cheap_eats\", \"mid_range\" and \"fine_dining\". \n",
    "\n",
    "The nerge between the two datasets will be done using the columns: `name`, ... ??\n",
    "\n",
    "\n",
    "\n",
    "### Training and test\n",
    "\n",
    "The company revenue training dataset has been split into 'training' and 'test' subsets. The shapes are:\n",
    "\n",
    "* training: (nb_rows, nb_features)\n",
    "* test: (nb_rows, nb_features)\n"
   ]
  },
  {
   "cell_type": "markdown",
   "metadata": {},
   "source": [
    "## <a style=\"color:#0131B4\">4. Business metric</a>\n",
    "\n",
    "We are in a regression problem, predicting a sanitary score between 0 and 100 (100 being the perfect score). First, we want our prediction values to be close to our true values, therefore considering the root-mean-square error (RMSE) to measure the differences between values can be a good start. However, the impacts of a high predicted value or a low predictied value, compared with the true value, are different:\n",
    "- predicting a higher value than the true value will overrate the health quality of the restaurant. This could have a great impact on the risk, leading the health inspectors to believe that an inspection of the restaurant might not be necessary while there might be some potential violations. Therefore, this case should appear in our predictions.\n",
    "- predicting a lower value than the true value is prefered: in the worst case, the health inspectors will inspect a very clean restaurant, which will make them loss their time, but will not put people in jeopardy.\n",
    "\n",
    "Therefore over-predicting the health quality os more harmful than under-predicting it. We define our metric as follows:\n",
    "\n",
    "$$\n",
    "\\begin{align*}\n",
    "& \\text{loss} = \\text{RMSE} * \\text{penalization}  \\\\\n",
    "\\text{with   } & \\text{penalization} = \\left\\{\n",
    "    \\begin{array}{ll}\n",
    "        1.5 \\text{  if y_true} < \\text{y_pred} \\\\\n",
    "        1 \\text{  otherwise}\n",
    "    \\end{array}\n",
    "\\right.\n",
    "\\end{align*}\n",
    "$$"
   ]
  },
  {
   "cell_type": "markdown",
   "metadata": {},
   "source": [
    "Loss interpretation:\n",
    "\n",
    "* A lower loss is better.\n",
    "* If the difference between `y_true` and `y_pred` values is the same, the loss is lower if `y_true` > `y_pred`."
   ]
  },
  {
   "cell_type": "markdown",
   "metadata": {},
   "source": [
    "<img src=\"reports/figures/inpection.jpg\" height=\"500\" width=\"500\">"
   ]
  },
  {
   "cell_type": "markdown",
   "metadata": {},
   "source": [
    "#  <a style=\"color:#0131B4\">II. Exploratory Data Analysis</a>"
   ]
  },
  {
   "cell_type": "markdown",
   "metadata": {},
   "source": [
    "#  <a style=\"color:#0131B4\">III. Workflow</a>"
   ]
  },
  {
   "cell_type": "markdown",
   "metadata": {},
   "source": [
    "## <a style=\"color:#0131B4\">1. Feature Extractor</a>"
   ]
  },
  {
   "cell_type": "markdown",
   "metadata": {},
   "source": [
    "## <a style=\"color:#0131B4\">2. Regressor</a>"
   ]
  },
  {
   "cell_type": "markdown",
   "metadata": {},
   "source": [
    "## <a style=\"color:#0131B4\">3. Evaluation</a>"
   ]
  },
  {
   "cell_type": "markdown",
   "metadata": {},
   "source": [
    "## <a style=\"color:#0131B4\">4. Cross-Validation</a>"
   ]
  },
  {
   "cell_type": "markdown",
   "metadata": {},
   "source": [
    "#  <a style=\"color:#0131B4\">IV. Submission</a>"
   ]
  },
  {
   "cell_type": "markdown",
   "metadata": {},
   "source": [
    "First, ensure that `ramp-worflow` is installed (see the [github repo](https://github.com/paris-saclay-cds/ramp-workflow) for installation instructions). \n",
    "\n",
    "Now you can use `ramp_test_submission`. This command will test on files in [`submissions/starting_kit`](/submissions/starting_kit) by default. To specify testing on a different folder use the flag `--submission`. For example to run the test on `submissions/my_model` use: `ramp_test_submission --submission my_model`."
   ]
  },
  {
   "cell_type": "code",
   "execution_count": null,
   "metadata": {},
   "outputs": [],
   "source": [
    "!ramp_test_submission --submission starting_kit"
   ]
  }
 ],
 "metadata": {
  "kernelspec": {
   "display_name": "Python 3",
   "language": "python",
   "name": "python3"
  },
  "language_info": {
   "codemirror_mode": {
    "name": "ipython",
    "version": 3
   },
   "file_extension": ".py",
   "mimetype": "text/x-python",
   "name": "python",
   "nbconvert_exporter": "python",
   "pygments_lexer": "ipython3",
   "version": "3.7.3"
  }
 },
 "nbformat": 4,
 "nbformat_minor": 2
}
