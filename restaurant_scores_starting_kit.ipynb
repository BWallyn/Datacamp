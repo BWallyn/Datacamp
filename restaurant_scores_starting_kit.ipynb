{
 "cells": [
  {
   "cell_type": "markdown",
   "metadata": {},
   "source": [
    "<div style=\"text-align: center\">\n",
    "  <tr style=\"background-color:transparent;\">\n",
    "    <td style=\"background-color:transparent;\"><a href=\"http://www.datascience-paris-saclay.fr\">\n",
    "<img border=\"0\" src=\"http://project.inria.fr/saclaycds/files/2017/02/logoUPSayPlusCDS_990.png\"> </td>\n",
    "     <td style=\"background-color:transparent;\"><a href=\"https://www.sidetrade.com/\">\n",
    "  </tr>\n",
    "</table> \n",
    "</div>"
   ]
  },
  {
   "cell_type": "markdown",
   "metadata": {},
   "source": [
    "# <a style=\"color:#0131B4\"> DataCamp Project : </a>\n",
    "# <a style=\"color:#0131B4\">Helping Health Inspectors calculate restaurant score in San Francisco</a>"
   ]
  },
  {
   "cell_type": "markdown",
   "metadata": {},
   "source": [
    "<img src=\"reports/figures/grades.png\" height=\"450\" width=\"450\">"
   ]
  },
  {
   "cell_type": "markdown",
   "metadata": {},
   "source": [
    "####  <a style=\"color:#0131B4\"> Authors : Emma Demarecaux, Charles Desaleux, Romain Fabre, Julien Lenhardt, Luz Pascal, Benjamin Wallyn</a>"
   ]
  },
  {
   "cell_type": "markdown",
   "metadata": {},
   "source": [
    "# <a style=\"color:#0131B4\">  General Outline</a>\n",
    "\n",
    "##  <a href=\"#I.-Business-case\" style=\"color:#0131B4\"> I. Business case</a>\n",
    "\n",
    "1. Business case presentation \n",
    "2. KPIs \n",
    "3. Data \n",
    "4. Business metric\n",
    "\n",
    "##  <a href=\"#II.-Exploratory-Data-Analysis\" style=\"color:#0131B4\"> II. Exploratory Data Analysis </a>\n",
    "\n",
    "##  <a href=\"#III.-Workflow\" style=\"color:#0131B4\"> III. Workflow</a>\n",
    "\n",
    "1. Feature Extractor\n",
    "2. Regressor\n",
    "3. Evaluation\n",
    "4. Cross-Validation\n",
    "\n",
    "##  <a href=\"#IV.-Submission\" style=\"color:#0131B4\"> IV. Submission</a>"
   ]
  },
  {
   "cell_type": "markdown",
   "metadata": {},
   "source": [
    "#  <a style=\"color:#0131B4\">I. Business case</a>\n",
    "\n",
    "## <a style=\"color:#0131B4\">1. Business case presentation</a>\n",
    "*How Restaurant Health Inspections Work?*"
   ]
  },
  {
   "cell_type": "markdown",
   "metadata": {},
   "source": [
    "The Health Department has developed an inspection report and scoring system. After conducting an inspection of the facility, the Health Inspector calculates a score based on the violations observed. Violations can fall into:\n",
    "- **High risk category**: records specific violations that directly relate to the transmission of food borne illnesses, the adulteration of food products and the contamination of food-contact surfaces;\n",
    "- **Moderate risk category**: records specific violations that are of a moderate risk to the public health and safety;\n",
    "- **Low risk category**: records violations that are low risk or have no immediate risk to the public health and safety."
   ]
  },
  {
   "cell_type": "markdown",
   "metadata": {},
   "source": [
    "The score card that will be issued by the inspector is maintained at the food establishment and is available to the public in this dataset. We will focus on San Francisco's LIVES restaurant inspection data. In 2012, Yelp partnered with the City of San Francisco and City of New York to develop the *Local Inspector Value-Entry Specification* (LIVES). LIVES is an open data standard which allows municipalities to publish restaurant inspection information to Yelp."
   ]
  },
  {
   "cell_type": "markdown",
   "metadata": {},
   "source": [
    "A health inspector is allowed to visit your venue at any reasonable time without notice. As part of their job, they're obligated to do a certain number of inspections a year (once every six months is common), but they're also required to do an inspection if a customer complains. \n",
    "\n",
    "The highest grade ('A') is earned if the restaurant is clean, up to code, and free of violations, a 'B' means that the restaurant is clean, but has some minor issues that needs to be fixed and a 'C' means the restaurant shouldn't be open.\n",
    "\n",
    "The health score goes from 0 to 100. A perfect score is 100. For states and counties that use the letter-grade system, a 90-to-100 point score is an A, 80 to 89 is a B and so forth. Some cities and states require the restaurant to prominently display its most recent grade.\n",
    "\n",
    "Public health inspectors look for health and safety hazards in restaurants. They inspect workplaces to ensure equipment, materials and processes are safe, develop, implement and evaluate health and safety programs and strategies.\n",
    "\n",
    "Grade pending means that the restaurant got either a B or a C. The restaurant can contest the grade, and while it's waiting for a hearing, it can post the grade it received or the \"Grade Pending\" sign. The restaurant's pending scores can be looked up online."
   ]
  },
  {
   "cell_type": "markdown",
   "metadata": {},
   "source": [
    "<img src=\"reports/figures/closed.jpg\" height=\"400\" width=\"400\">"
   ]
  },
  {
   "cell_type": "markdown",
   "metadata": {},
   "source": [
    "<a style=\"color:#0131B4\">Our goal is to estimate the restaurant score in order to help health inspectors select places that may not respect the health quality needed for a restaurant.</a>"
   ]
  },
  {
   "cell_type": "markdown",
   "metadata": {},
   "source": [
    "## <a style=\"color:#0131B4\">2. KPIs</a>\n",
    "\n",
    "*How can we measure the impact of our project?*"
   ]
  },
  {
   "cell_type": "markdown",
   "metadata": {},
   "source": [
    "<img src=\"reports/figures/preparing_inspection.jpg\" height=\"400\" width=\"400\">"
   ]
  },
  {
   "cell_type": "markdown",
   "metadata": {},
   "source": [
    "Here are some indicators that might measure the impact of our project:\n",
    "\n",
    "- Number of people with foodborne illnesses in San Francisco.\n",
    "- Number of visits that result in a C score (meaning that the health inspectors didn't lose their time).\n",
    "- Number of restaurants than maintain a clean record after an unscheduled inpection."
   ]
  },
  {
   "cell_type": "markdown",
   "metadata": {},
   "source": [
    "## <a style=\"color:#0131B4\">3. Data</a>\n",
    "\n",
    "### Restaurant Scores - LIVES Standard\n",
    "\n",
    "This dataset was built from an extract of the [Department of Public Health](https://data.sfgov.org/Health-and-Social-Services/Restaurant-Scores-LIVES-Standard/pyih-qa8i?row_index=0) reference database of Restaurant Scores (LIVES Standard).\n",
    "\n",
    "All of the columns associated with the listing of violations are optional. If a data provider does not collect or does not wish to provide details of violations, those columns can be blank or omitted.\n",
    "- If the data provider includes violations then the dataset will have one record for each violation and the associated inspection and business information will be duplicated for each violation, but can be differentiated by their business_ids and inspection_ids. Any inspection that resulted in no violations can be represented as a single row for the inspection with blank data in the violations fields.\n",
    "- If violations are not included then the dataset will have one record for each inspection and the associated business information will be duplicated for each inspection\n",
    "\n",
    "The following information is provided in the columns:\n",
    "\n",
    "* `business_id` - *number* - required - Unique identifier for the business. For many cities, this may be the license number.\n",
    "* `business_name` - *string* - required - Common name of the business.\n",
    "* `business_address` - *string* - required - Street address of the business. *Example: 706 Mission St*.\n",
    "* `business_city` - *string* - required - City of the business. This field must be included if the file contains businesses from multiple cities.\n",
    "* `business_state` - *string* - required - State or province for the business. In the U.S. this should be the two-letter code for the state.\n",
    "* `business_postal_code` - *string* - not required - Zip code or other postal code.\n",
    "* `business_latitude` - *number* - not required - Latitude of the business. This field must be a valid WGS 84 latitude. *Example: 37.7859547*.\n",
    "* `business_longitude` - *number* - not required - Longitude of the business. This field must be a valid WGS 84 longitude. *Example: -122.4024658*.\n",
    "* `business_location` - *location* - not required - If you wish to have geospatial API capabilities or wish to geocode addresses you should include this Location datatype column. *Example: POINT(-122.393089 37.778634)*.\n",
    "* `business_phone_number` - *string* - not required - Phone number for a business including country specific dialing information.\n",
    "* `inspection_id` - *string* - required - A unique identifier for a given inspection.\n",
    "* `inspection_date` - *date* - required - Date of the inspection in YYYY-MM-DD format. *Example: 2015-08-22*.\n",
    "* `inspection_score` - *number* - not required - Calculated inspection score, graded from 0 to 100. **Target score to predict**.\n",
    "* `inspection_type` - *string* - not required - String representing the type of inspection. Must be one of: initial, routine, unscheduled, follow-up, complaint.\n",
    "* `violation_id` - *string* - not required - A unique identifier for a given violation.\n",
    "* `violation_description` - *string* - not required - One line description of the violation. If violation data is provided then this field is required.\n",
    "* `risk_category` - *string* - not required - This string represents the non-numeric result of the inspection: \"Low Risk\", \"Moderate Risk\" or \"High Risk\".\n",
    "\n",
    "\n",
    "### Tripadvisor\n",
    "\n",
    "In order to gain information on restaurants, we decided to scrap the restaurants on Tripadvisor for which we have an inspection score available. Our goal is to predict that score from the information available on Tripadvisor in order to help Health Inspectors decide whether or not to inspect a restaurant in San Francisco based on the predicted scores. We chose to use Tripadvisor data because it provides constumer insight that can be usesul to identifiy potential sanitary risks and violations. Each row represents a restaurant on Tripadvisor. The following information is provided for each business:\n",
    "\n",
    "* `link` - *string* - required - Tripadvisor link to the restaurant page.\n",
    "* `name` - *string* - required - Common name of the business.\n",
    "* `rating` - *number* - required - Grade of the restaurant: 0, 5, 10, 15, 20, 25, 30, 35, 40, 45, 50.\n",
    "* `n_reviews` - *number* - required - Number of reviews of the restaurant.\n",
    "* `price_type` - *string* - not required - Price category of the restaurant: \"cheap_eats\", \"mid_range\", \"fine_dining\", \"Other_category\". \n",
    "* `borough` - *string* - required - Borough of the restaurant.\n",
    "* `price_range` - *string* - not required - Price range of the restaurant. \n",
    "* `cuisines` - *string* - not required - Type of the restaurant. \n",
    "* `special_diets` - *string* - not required - Wether the restaurant offers vegetarian/vegan/gluten/etc free food.\n",
    "* `meals` - *string* - not required - Type of meals served in the restaurant. Example: Lunch, Dinner, Drinks.\n",
    "* `features` - *string* - not required - Additional features/facilities of the restaurant. Example: Parking, Outdoor seating.\n",
    "* `n_review_excellent` - *number* - required - Number of excellent reviews of the restaurant.\n",
    "* `n_review_verygood` - *number* - required - Number of very good reviews of the restaurant.\n",
    "* `n_review_average` - *number* - required - Number of average reviews of the restaurant.\n",
    "* `n_review_poor` - *number* - required - Number of poor reviews of the restaurant.\n",
    "* `n_review_terrible` - *number* - required - Number of terrible reviews of the restaurant.\n",
    "* `list_reviews` - *string* - required - List of last 5 reviews of the restaurant.\n",
    "\n",
    "\n",
    "Those two datasets are present in the data/ directory and are added by default to all submissions when submitting to RAMP studio. When testing your submission locally however, it is important to copy those files (tripadvisor_dataset.csv.zip and historic_restaurant_scores.csv.zip) into the submission directory of the submission you wish to test."
   ]
  },
  {
   "cell_type": "markdown",
   "metadata": {},
   "source": [
    "### Training and test\n",
    "\n",
    "The restaurant score dataset dataset has been split into 'training' and 'test' subsets. The shapes are:\n",
    "\n",
    "* training: (2479, 76)\n",
    "* test: (621, 76)\n",
    "\n",
    "We have considered a simpler version of the dataset with one row per restaurant, keeping only the last available inspection. You may enrich this initial dataset with *tripadvisor_dataset.csv.zip* and *historic_restaurant_scores.csv.zip* available in all submission directories."
   ]
  },
  {
   "cell_type": "markdown",
   "metadata": {},
   "source": [
    "## <a style=\"color:#0131B4\">4. Business metric</a>\n",
    "\n",
    "We are in a regression problem, predicting a sanitary score between 0 and 100 (100 being the perfect score). First, we want our prediction values to be close to our true values, therefore considering the root-mean-square error (RMSE) to measure the differences between values can be a good start. However, the impacts of a high predicted value or a low predictied value, compared with the true value, are different:\n",
    "- predicting a higher value than the true value will overrate the health quality of the restaurant. This could have a great impact on the risk, leading the health inspectors to believe that an inspection of the restaurant might not be necessary while there might be some potential violations. Therefore, this case should appear in our predictions.\n",
    "- predicting a lower value than the true value is prefered: in the worst case, the health inspectors will inspect a very clean restaurant, which will make them loss their time, but will not put people in jeopardy.\n",
    "\n",
    "Therefore over-predicting the health quality os more harmful than under-predicting it. We define our metric as follows:\n",
    "\n",
    "$$\\textrm{Loss} = \\sqrt{\\frac{1}{n} \\sum_{i=1}^n (\\textrm{y_pred}_i - \\textrm{y_true}_i)^2*\\textrm{penalization}_i}$$\n",
    "\n",
    "with $$\\textrm{penalization}_i = 1.5*(\\textrm{y_true}_i < \\textrm{y_pred}_i) + 1*(\\textrm{y_true}_i \\geq \\textrm{y_pred}_i)$$"
   ]
  },
  {
   "cell_type": "markdown",
   "metadata": {},
   "source": [
    "Loss interpretation:\n",
    "\n",
    "* A lower loss is better.\n",
    "* If the difference between `y_true` and `y_pred` values is the same, the loss is lower if `y_true` > `y_pred`."
   ]
  },
  {
   "cell_type": "markdown",
   "metadata": {},
   "source": [
    "<img src=\"reports/figures/inpection.jpg\" height=\"500\" width=\"500\">"
   ]
  },
  {
   "cell_type": "markdown",
   "metadata": {},
   "source": [
    "#  <a style=\"color:#0131B4\">II. Exploratory Data Analysis</a>"
   ]
  },
  {
   "cell_type": "markdown",
   "metadata": {},
   "source": [
    "Possible improvements:\n",
    "- take all inspections as input instead of only the last one"
   ]
  },
  {
   "cell_type": "markdown",
   "metadata": {},
   "source": [
    "#### Merge\n",
    "\n",
    "The merge between the two datasets will be done using `business_name` from the Restaurant Scores data and `name` from the Tripadvisor data. The business names were lowercased and special characters (punctuations, white spaces and numbers) were removed."
   ]
  },
  {
   "cell_type": "code",
   "execution_count": 1,
   "metadata": {},
   "outputs": [],
   "source": [
    "import pandas as pd\n",
    "import numpy as np"
   ]
  },
  {
   "cell_type": "code",
   "execution_count": 2,
   "metadata": {},
   "outputs": [],
   "source": [
    "from problem import get_train_data\n",
    "\n",
    "X_df, y_array = get_train_data()"
   ]
  },
  {
   "cell_type": "code",
   "execution_count": 3,
   "metadata": {},
   "outputs": [],
   "source": [
    "tripadvisor = pd.read_csv('data/external/tripadvisor_dataset.csv', low_memory=False)"
   ]
  },
  {
   "cell_type": "markdown",
   "metadata": {},
   "source": [
    "#  <a style=\"color:#0131B4\">III. Workflow</a>"
   ]
  },
  {
   "cell_type": "markdown",
   "metadata": {},
   "source": [
    "## <a style=\"color:#0131B4\">1. Feature Extractor</a>"
   ]
  },
  {
   "cell_type": "code",
   "execution_count": 4,
   "metadata": {},
   "outputs": [],
   "source": [
    "from sklearn.preprocessing import FunctionTransformer"
   ]
  },
  {
   "cell_type": "code",
   "execution_count": 5,
   "metadata": {},
   "outputs": [],
   "source": [
    "def get_first(x):\n",
    "            if isinstance(x, str):\n",
    "                res = x.split(',')[0]\n",
    "                return res\n",
    "            else:\n",
    "                return x\n",
    "\n",
    "            \n",
    "def merge(X):\n",
    "    X.loc[:, 'business_name'] = X.loc[:, 'business_name'].str.lower()\n",
    "    X.loc[:, 'business_name'] = X.loc[:, 'business_name'].str.replace('[^\\w]','')\n",
    "    X.loc[:, 'business_name'] = X.loc[:, 'business_name'].apply(lambda s : ''.join(filter(str.isalpha, s)))\n",
    "    df = pd.merge(X, tripadvisor, left_on='business_name', right_on='name', how='left')\n",
    "    return df\n",
    "\n",
    "\n",
    "tripadvisor.loc[:, 'name'] = tripadvisor.loc[:, 'name'].str.lower()\n",
    "tripadvisor.loc[:, 'name'] = tripadvisor.loc[:, 'name'].str.replace('[^\\w]','')\n",
    "tripadvisor.loc[:, 'name'] = tripadvisor.loc[:, 'name'].apply(lambda s : ''.join(filter(str.isalpha, s)))\n",
    "tripadvisor.drop_duplicates('name', inplace=True)\n",
    "tripadvisor.loc[:, 'cuisines'] = tripadvisor.loc[:, 'cuisines'].apply(lambda x: get_first(x))\n",
    "tripadvisor.loc[:, 'special_diets'] = tripadvisor.loc[:, 'special_diets'].apply(lambda x: get_first(x))\n",
    "tripadvisor.loc[:, 'meals'] = tripadvisor.loc[:, 'meals'].apply(lambda x: get_first(x))\n",
    "X_df = merge(X_df)"
   ]
  },
  {
   "cell_type": "code",
   "execution_count": 6,
   "metadata": {},
   "outputs": [],
   "source": [
    "def lat_long(X):\n",
    "    latitude = pd.to_numeric(X['business_latitude'], downcast='float', errors='coerce')\n",
    "    longitude = pd.to_numeric(X['business_longitude'], downcast='float', errors='coerce')\n",
    "    return np.c_[latitude.values[:, np.newaxis], longitude.values[:, np.newaxis]]\n",
    "\n",
    "lat_long_transformer = FunctionTransformer(lat_long, validate=False)"
   ]
  },
  {
   "cell_type": "code",
   "execution_count": 7,
   "metadata": {},
   "outputs": [],
   "source": [
    "def zipcodes(X):\n",
    "    zipcode_nums = pd.to_numeric(X['business_postal_code'], errors='coerce')\n",
    "    return zipcode_nums.values[:, np.newaxis]\n",
    "\n",
    "zipcode_transformer = FunctionTransformer(zipcodes, validate=False)"
   ]
  },
  {
   "cell_type": "code",
   "execution_count": 8,
   "metadata": {},
   "outputs": [],
   "source": [
    "from sklearn.impute import SimpleImputer\n",
    "from sklearn.pipeline import Pipeline\n",
    "from sklearn.preprocessing import OneHotEncoder\n",
    "\n",
    "numeric_transformer = Pipeline(steps=[\n",
    "    ('impute', SimpleImputer(strategy='median'))\n",
    "])"
   ]
  },
  {
   "cell_type": "code",
   "execution_count": 9,
   "metadata": {},
   "outputs": [],
   "source": [
    "from sklearn.compose import ColumnTransformer, make_column_transformer\n",
    "from sklearn.pipeline import make_pipeline\n",
    "\n",
    "num_cols = ['business_id', 'rating', 'n_review_excellent', 'n_review_verygood', \n",
    "            'n_review_average', 'n_review_poor', 'n_review_terrible']\n",
    "cat_cols = ['inspection_type', 'risk_category', 'price_type', 'cuisines', \n",
    "            'special_diets', 'meals']\n",
    "lat_long_cols = ['business_latitude', 'business_longitude']\n",
    "zipcode_col = ['business_postal_code']\n",
    "drop_cols = ['business_address', 'business_city', 'business_location',\n",
    "             'business_name', 'business_phone_number', 'list_reviews',\n",
    "             'business_state', 'full_adress', 'inspection_date', 'inspection_id',\n",
    "             'neighborhood', 'violation_description', 'violation_id', 'link', \n",
    "             'name', 'location', 'borough', 'price_range', 'features']\n",
    "\n",
    "categorical_transformer = Pipeline(steps=[\n",
    "    ('imputer', SimpleImputer(strategy='most_frequent')),\n",
    "    ('onehot', OneHotEncoder(handle_unknown='ignore'))])\n",
    "\n",
    "preprocessor_comp = ColumnTransformer(\n",
    "    transformers=[\n",
    "        ('num', numeric_transformer, num_cols),\n",
    "        ('cat', categorical_transformer, cat_cols),\n",
    "        ('lat_long', make_pipeline(lat_long_transformer, SimpleImputer(strategy='median')), lat_long_cols),\n",
    "        ('zipcode', make_pipeline(zipcode_transformer, SimpleImputer(strategy='median')), zipcode_col),\n",
    "        ('drop cols', 'drop', drop_cols),\n",
    "    ])"
   ]
  },
  {
   "cell_type": "markdown",
   "metadata": {},
   "source": [
    "## <a style=\"color:#0131B4\">2. Regressor</a>"
   ]
  },
  {
   "cell_type": "markdown",
   "metadata": {},
   "source": [
    "We will use a Random Forest Regressor model for the baseline model"
   ]
  },
  {
   "cell_type": "code",
   "execution_count": 11,
   "metadata": {},
   "outputs": [],
   "source": [
    "from sklearn.ensemble import RandomForestRegressor\n",
    "\n",
    "regressor = RandomForestRegressor(n_estimators=12)"
   ]
  },
  {
   "cell_type": "markdown",
   "metadata": {},
   "source": [
    "## <a style=\"color:#0131B4\">3. Evaluation</a>"
   ]
  },
  {
   "cell_type": "markdown",
   "metadata": {},
   "source": [
    "Before we can test our model, we need to define our unique scoring function:"
   ]
  },
  {
   "cell_type": "code",
   "execution_count": 12,
   "metadata": {},
   "outputs": [],
   "source": [
    "from sklearn.metrics import make_scorer\n",
    "\n",
    "def loss(y_true, y_pred):\n",
    "    if isinstance(y_true, pd.Series):\n",
    "        y_true = y_true.values\n",
    "    penalization = 1.5*(y_pred > y_true) + 1*(y_pred <= y_true)\n",
    "    loss = np.sqrt(np.mean((y_true - y_pred)**2*penalization))\n",
    "    return loss\n",
    "    \n",
    "restaurant_loss = make_scorer(loss, greater_is_better=False)"
   ]
  },
  {
   "cell_type": "markdown",
   "metadata": {},
   "source": [
    "Now we can test our model."
   ]
  },
  {
   "cell_type": "markdown",
   "metadata": {},
   "source": [
    "## <a style=\"color:#0131B4\">4. Cross-Validation</a>"
   ]
  },
  {
   "cell_type": "code",
   "execution_count": 13,
   "metadata": {},
   "outputs": [
    {
     "name": "stdout",
     "output_type": "stream",
     "text": [
      "mean: 6.386191e+00 (+/- 1.781471e-01)\n"
     ]
    }
   ],
   "source": [
    "from sklearn.model_selection import cross_val_score\n",
    "from sklearn.model_selection import GroupShuffleSplit\n",
    "\n",
    "clf = Pipeline(steps=[\n",
    "    ('preprocessing', preprocessor_comp),\n",
    "    ('classifier', regressor)])\n",
    "\n",
    "cv = GroupShuffleSplit(n_splits=8, test_size=0.25)\n",
    "\n",
    "scores_Xdf = -cross_val_score(clf, X_df, y_array, cv=cv, scoring=restaurant_loss, groups=X_df['business_id'], n_jobs=2)\n",
    "\n",
    "print(\"mean: %e (+/- %e)\" % (scores_Xdf.mean(), scores_Xdf.std()))"
   ]
  },
  {
   "cell_type": "markdown",
   "metadata": {},
   "source": [
    "#  <a style=\"color:#0131B4\">IV. Submission</a>"
   ]
  },
  {
   "cell_type": "markdown",
   "metadata": {},
   "source": [
    "First, ensure that `ramp-worflow` is installed (see the [github repo](https://github.com/paris-saclay-cds/ramp-workflow) for installation instructions). \n",
    "\n",
    "Now you can use `ramp_test_submission`. This command will test on files in [`submissions/starting_kit`](/submissions/starting_kit) by default. To specify testing on a different folder use the flag `--submission`. For example to run the test on `submissions/my_model` use: `ramp_test_submission --submission my_model`."
   ]
  },
  {
   "cell_type": "code",
   "execution_count": 14,
   "metadata": {},
   "outputs": [
    {
     "name": "stdout",
     "output_type": "stream",
     "text": [
      "\u001b[38;5;178m\u001b[1mTesting Prediction of inspection score\u001b[0m\n",
      "\u001b[38;5;178m\u001b[1mReading train and test files from ./data ...\u001b[0m\n",
      "\u001b[38;5;178m\u001b[1mReading cv ...\u001b[0m\n",
      "\u001b[38;5;178m\u001b[1mTraining submissions/starting_kit ...\u001b[0m\n",
      "\u001b[38;5;178m\u001b[1mCV fold 0\u001b[0m\n",
      "\t\u001b[38;5;178m\u001b[1mscore  Score error      time\u001b[0m\n",
      "\t\u001b[38;5;10m\u001b[1mtrain\u001b[0m         \u001b[38;5;10m\u001b[1m3.15\u001b[0m  \u001b[38;5;150m0.230920\u001b[0m\n",
      "\t\u001b[38;5;12m\u001b[1mvalid\u001b[0m         \u001b[38;5;12m\u001b[1m5.95\u001b[0m  \u001b[38;5;105m0.030150\u001b[0m\n",
      "\t\u001b[38;5;1m\u001b[1mtest\u001b[0m          \u001b[38;5;1m\u001b[1m6.22\u001b[0m  \u001b[38;5;218m0.014625\u001b[0m\n",
      "\u001b[38;5;178m\u001b[1mCV fold 1\u001b[0m\n",
      "\t\u001b[38;5;178m\u001b[1mscore  Score error      time\u001b[0m\n",
      "\t\u001b[38;5;10m\u001b[1mtrain\u001b[0m         \u001b[38;5;10m\u001b[1m3.03\u001b[0m  \u001b[38;5;150m0.181107\u001b[0m\n",
      "\t\u001b[38;5;12m\u001b[1mvalid\u001b[0m         \u001b[38;5;12m\u001b[1m6.10\u001b[0m  \u001b[38;5;105m0.029131\u001b[0m\n",
      "\t\u001b[38;5;1m\u001b[1mtest\u001b[0m          \u001b[38;5;1m\u001b[1m6.39\u001b[0m  \u001b[38;5;218m0.014861\u001b[0m\n",
      "\u001b[38;5;178m\u001b[1mCV fold 2\u001b[0m\n",
      "\t\u001b[38;5;178m\u001b[1mscore  Score error      time\u001b[0m\n",
      "\t\u001b[38;5;10m\u001b[1mtrain\u001b[0m         \u001b[38;5;10m\u001b[1m2.78\u001b[0m  \u001b[38;5;150m0.181544\u001b[0m\n",
      "\t\u001b[38;5;12m\u001b[1mvalid\u001b[0m         \u001b[38;5;12m\u001b[1m6.53\u001b[0m  \u001b[38;5;105m0.029623\u001b[0m\n",
      "\t\u001b[38;5;1m\u001b[1mtest\u001b[0m          \u001b[38;5;1m\u001b[1m6.27\u001b[0m  \u001b[38;5;218m0.014785\u001b[0m\n",
      "\u001b[38;5;178m\u001b[1mCV fold 3\u001b[0m\n",
      "\t\u001b[38;5;178m\u001b[1mscore  Score error      time\u001b[0m\n",
      "\t\u001b[38;5;10m\u001b[1mtrain\u001b[0m         \u001b[38;5;10m\u001b[1m2.91\u001b[0m  \u001b[38;5;150m0.179461\u001b[0m\n",
      "\t\u001b[38;5;12m\u001b[1mvalid\u001b[0m         \u001b[38;5;12m\u001b[1m6.42\u001b[0m  \u001b[38;5;105m0.028492\u001b[0m\n",
      "\t\u001b[38;5;1m\u001b[1mtest\u001b[0m          \u001b[38;5;1m\u001b[1m6.10\u001b[0m  \u001b[38;5;218m0.013777\u001b[0m\n",
      "\u001b[38;5;178m\u001b[1mCV fold 4\u001b[0m\n",
      "\t\u001b[38;5;178m\u001b[1mscore  Score error      time\u001b[0m\n",
      "\t\u001b[38;5;10m\u001b[1mtrain\u001b[0m         \u001b[38;5;10m\u001b[1m3.04\u001b[0m  \u001b[38;5;150m0.178442\u001b[0m\n",
      "\t\u001b[38;5;12m\u001b[1mvalid\u001b[0m         \u001b[38;5;12m\u001b[1m6.19\u001b[0m  \u001b[38;5;105m0.028649\u001b[0m\n",
      "\t\u001b[38;5;1m\u001b[1mtest\u001b[0m          \u001b[38;5;1m\u001b[1m6.00\u001b[0m  \u001b[38;5;218m0.014489\u001b[0m\n",
      "\u001b[38;5;178m\u001b[1mCV fold 5\u001b[0m\n",
      "\t\u001b[38;5;178m\u001b[1mscore  Score error      time\u001b[0m\n",
      "\t\u001b[38;5;10m\u001b[1mtrain\u001b[0m         \u001b[38;5;10m\u001b[1m2.87\u001b[0m  \u001b[38;5;150m0.181538\u001b[0m\n",
      "\t\u001b[38;5;12m\u001b[1mvalid\u001b[0m         \u001b[38;5;12m\u001b[1m6.38\u001b[0m  \u001b[38;5;105m0.028547\u001b[0m\n",
      "\t\u001b[38;5;1m\u001b[1mtest\u001b[0m          \u001b[38;5;1m\u001b[1m6.17\u001b[0m  \u001b[38;5;218m0.015269\u001b[0m\n",
      "\u001b[38;5;178m\u001b[1mCV fold 6\u001b[0m\n",
      "\t\u001b[38;5;178m\u001b[1mscore  Score error      time\u001b[0m\n",
      "\t\u001b[38;5;10m\u001b[1mtrain\u001b[0m         \u001b[38;5;10m\u001b[1m2.82\u001b[0m  \u001b[38;5;150m0.177224\u001b[0m\n",
      "\t\u001b[38;5;12m\u001b[1mvalid\u001b[0m         \u001b[38;5;12m\u001b[1m6.91\u001b[0m  \u001b[38;5;105m0.028956\u001b[0m\n",
      "\t\u001b[38;5;1m\u001b[1mtest\u001b[0m          \u001b[38;5;1m\u001b[1m6.21\u001b[0m  \u001b[38;5;218m0.014134\u001b[0m\n",
      "\u001b[38;5;178m\u001b[1mCV fold 7\u001b[0m\n",
      "\t\u001b[38;5;178m\u001b[1mscore  Score error      time\u001b[0m\n",
      "\t\u001b[38;5;10m\u001b[1mtrain\u001b[0m         \u001b[38;5;10m\u001b[1m2.89\u001b[0m  \u001b[38;5;150m0.190599\u001b[0m\n",
      "\t\u001b[38;5;12m\u001b[1mvalid\u001b[0m         \u001b[38;5;12m\u001b[1m6.31\u001b[0m  \u001b[38;5;105m0.034950\u001b[0m\n",
      "\t\u001b[38;5;1m\u001b[1mtest\u001b[0m          \u001b[38;5;1m\u001b[1m6.13\u001b[0m  \u001b[38;5;218m0.014645\u001b[0m\n",
      "\u001b[38;5;178m\u001b[1m----------------------------\u001b[0m\n",
      "\u001b[38;5;178m\u001b[1mMean CV scores\u001b[0m\n",
      "\u001b[38;5;178m\u001b[1m----------------------------\u001b[0m\n",
      "\t\u001b[38;5;178m\u001b[1mscore   Score error        time\u001b[0m\n",
      "\t\u001b[38;5;10m\u001b[1mtrain\u001b[0m  \u001b[38;5;10m\u001b[1m2.94\u001b[0m \u001b[38;5;150m\u001b[38;5;150m±\u001b[0m\u001b[0m \u001b[38;5;150m0.119\u001b[0m  \u001b[38;5;150m0.2\u001b[0m \u001b[38;5;150m\u001b[38;5;150m±\u001b[0m\u001b[0m \u001b[38;5;150m0.02\u001b[0m\n",
      "\t\u001b[38;5;12m\u001b[1mvalid\u001b[0m  \u001b[38;5;12m\u001b[1m6.35\u001b[0m \u001b[38;5;105m\u001b[38;5;105m±\u001b[0m\u001b[0m \u001b[38;5;105m0.275\u001b[0m   \u001b[38;5;105m\u001b[38;5;105m0.0\u001b[0m\u001b[0m \u001b[38;5;105m\u001b[38;5;105m±\u001b[0m\u001b[0m \u001b[38;5;105m\u001b[38;5;105m0.0\u001b[0m\u001b[0m\n",
      "\t\u001b[38;5;1m\u001b[1mtest\u001b[0m    \u001b[38;5;1m\u001b[1m6.18\u001b[0m \u001b[38;5;218m\u001b[38;5;218m±\u001b[0m\u001b[0m \u001b[38;5;218m0.11\u001b[0m   \u001b[38;5;218m\u001b[38;5;218m0.0\u001b[0m\u001b[0m \u001b[38;5;218m\u001b[38;5;218m±\u001b[0m\u001b[0m \u001b[38;5;218m\u001b[38;5;218m0.0\u001b[0m\u001b[0m\n",
      "\u001b[38;5;178m\u001b[1m----------------------------\u001b[0m\n",
      "\u001b[38;5;178m\u001b[1mBagged scores\u001b[0m\n",
      "\u001b[38;5;178m\u001b[1m----------------------------\u001b[0m\n",
      "\t\u001b[38;5;178m\u001b[1mscore  Score error\u001b[0m\n",
      "\t\u001b[38;5;12m\u001b[1mvalid\u001b[0m         \u001b[38;5;12m\u001b[1m6.29\u001b[0m\n",
      "\t\u001b[38;5;1m\u001b[1mtest\u001b[0m          \u001b[38;5;1m\u001b[1m5.69\u001b[0m\n"
     ]
    }
   ],
   "source": [
    "!ramp_test_submission --submission starting_kit"
   ]
  },
  {
   "cell_type": "code",
   "execution_count": null,
   "metadata": {},
   "outputs": [],
   "source": []
  }
 ],
 "metadata": {
  "kernelspec": {
   "display_name": "Python 3",
   "language": "python",
   "name": "python3"
  },
  "language_info": {
   "codemirror_mode": {
    "name": "ipython",
    "version": 3
   },
   "file_extension": ".py",
   "mimetype": "text/x-python",
   "name": "python",
   "nbconvert_exporter": "python",
   "pygments_lexer": "ipython3",
   "version": "3.7.3"
  }
 },
 "nbformat": 4,
 "nbformat_minor": 2
}
